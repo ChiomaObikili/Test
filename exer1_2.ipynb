{
 "cells": [
  {
   "cell_type": "markdown",
   "id": "3811f117-d12d-4ec0-9389-1771b3971379",
   "metadata": {},
   "source": [
    "Exercise 1_2"
   ]
  },
  {
   "cell_type": "code",
   "execution_count": null,
   "id": "7b19a7f1-d99f-42e0-a68a-bee188759637",
   "metadata": {},
   "outputs": [],
   "source": [
    "a = 4"
   ]
  },
  {
   "cell_type": "code",
   "execution_count": null,
   "id": "0f9d54d5-2eca-4453-bd57-9f9c013b636c",
   "metadata": {},
   "outputs": [],
   "source": [
    "b = 6"
   ]
  }
 ],
 "metadata": {
  "kernelspec": {
   "display_name": "Python [conda env:base] *",
   "language": "python",
   "name": "conda-base-py"
  },
  "language_info": {
   "codemirror_mode": {
    "name": "ipython",
    "version": 3
   },
   "file_extension": ".py",
   "mimetype": "text/x-python",
   "name": "python",
   "nbconvert_exporter": "python",
   "pygments_lexer": "ipython3",
   "version": "3.12.7"
  }
 },
 "nbformat": 4,
 "nbformat_minor": 5
}
